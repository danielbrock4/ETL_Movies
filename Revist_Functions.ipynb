{
 "cells": [
  {
   "cell_type": "markdown",
   "id": "98c31dcd-29f1-4ed1-8b1d-74c0c9fd4043",
   "metadata": {},
   "source": [
    "# Revisit Functions"
   ]
  },
  {
   "cell_type": "code",
   "execution_count": 1,
   "id": "e12c09ee-4a9c-4be6-ac1a-2fcd238a8b6c",
   "metadata": {},
   "outputs": [],
   "source": [
    "import pandas as pd\n",
    "import numpy as np"
   ]
  },
  {
   "cell_type": "markdown",
   "id": "5c90f0f8-f057-4bfb-bfaa-160dd710d83d",
   "metadata": {},
   "source": [
    "## Scope\n",
    " Inside the code block of a function, we can use variables that were created outside the function and initialize new variables inside the function.\n",
    "#### This is called the \"scope\" of the variables:\n",
    "* Variables created outside the function are called global variables.\n",
    "* New variables created inside the function are local variables.\n",
    "* The hierarchy of variables is called the scope."
   ]
  },
  {
   "cell_type": "code",
   "execution_count": 2,
   "id": "27dff5b2-d373-4a96-a17b-46f7536ad380",
   "metadata": {},
   "outputs": [
    {
     "name": "stdout",
     "output_type": "stream",
     "text": [
      "local value\n",
      "global value\n"
     ]
    }
   ],
   "source": [
    "x = 'global value'\n",
    "\n",
    "def foo():\n",
    "    x = 'local value'\n",
    "    print(x)\n",
    "\n",
    "foo()\n",
    "print(x)"
   ]
  },
  {
   "cell_type": "markdown",
   "id": "5a447ef6-48f6-4ce5-813b-2cdf8e2c3644",
   "metadata": {},
   "source": [
    "#### Explanation\n",
    "Outside the function, x has the value global value. Although we define a new function after assigning a value to the global variable x, the x inside the function is a new variable whose scope is local to foo(). Even after calling the foo() function, the global variable x keeps its original value."
   ]
  },
  {
   "cell_type": "markdown",
   "id": "76bf8be4-fca4-4e68-bd68-d4b004aa767f",
   "metadata": {},
   "source": [
    "#### Important\n",
    "The scope of local variables only works inside the function in which they are created. If we try to access a local variable outside the function in which it's defined, Python will raise a NameError because it won't be able to find the function."
   ]
  },
  {
   "cell_type": "code",
   "execution_count": 3,
   "id": "42ef4073-e0dc-4a3f-ab87-ce7a0bd62352",
   "metadata": {},
   "outputs": [
    {
     "name": "stdout",
     "output_type": "stream",
     "text": [
      "[1, 2, 3, 4]\n"
     ]
    }
   ],
   "source": [
    "my_list = [1,2,3]\n",
    "def append_four(x):\n",
    "    x.append(4)\n",
    "append_four(my_list)\n",
    "print(my_list)"
   ]
  },
  {
   "cell_type": "markdown",
   "id": "51e9fd23-02b8-4404-8e1e-6206d0168b1c",
   "metadata": {},
   "source": [
    "#### Caution\n",
    "When passing mutable objects like a dict or list as parameters to a function, the function can change the values inside the object."
   ]
  },
  {
   "cell_type": "markdown",
   "id": "e22f1e6e-0e54-4c82-a048-b24960305e09",
   "metadata": {},
   "source": [
    "It changed my_list to [1,2,3,4], even outside the function. To leave the original object unchanged, we need to make a copy. For lists, we make a copy with the list function; for dicts, we make a copy with the dict function, like so:\n",
    "* new_list = list(old_list)\n",
    "* new_dict = dict(old_dict)"
   ]
  },
  {
   "cell_type": "code",
   "execution_count": 4,
   "id": "5a7b875a-9507-4297-8459-e5e09d7f78ca",
   "metadata": {},
   "outputs": [
    {
     "name": "stdout",
     "output_type": "stream",
     "text": [
      "[1, 2, 3]\n",
      "[1, 2, 3, 4]\n"
     ]
    }
   ],
   "source": [
    "old_list = [1,2,3]\n",
    "new_list = list(old_list)\n",
    "\n",
    "def append_four(x):\n",
    "    x.append(4)\n",
    "\n",
    "append_four(new_list)\n",
    "print(old_list)\n",
    "print(new_list)"
   ]
  },
  {
   "cell_type": "markdown",
   "id": "ae608728-b2f8-41bb-a4ed-627d6925eb87",
   "metadata": {},
   "source": [
    "## Lambda Functions"
   ]
  },
  {
   "cell_type": "markdown",
   "id": "d6f72ef5-2ba3-4875-b13f-28502b9e75aa",
   "metadata": {},
   "source": [
    "Lambda Functions = most stripped-down function we can make. Lambda functions are written in one line and automatically return a value without using the return keyword. Lambda functions have no name and are also known as \"anonymous functions.\" There are functions that expect other functions to be sent to them as a parameter, and lambda functions are a way to quickly create a concise function to send as a parameter to another function. \n",
    "\n",
    "Basic syntax to a lambda function follows:\n",
    "* lambda arguments: expression\n",
    "This function will take in an argument and will return the expression. Even though lambda functions are supposed to be anonymous, just this once we'll create a lambda function and assign a name so that we can see how they work. "
   ]
  },
  {
   "cell_type": "markdown",
   "id": "3ca44030-d305-4447-9580-627c59f63dba",
   "metadata": {},
   "source": [
    "A lambda function that squares a value looks like the following:\n",
    "* lambda x: x * x"
   ]
  },
  {
   "cell_type": "code",
   "execution_count": 5,
   "id": "b9c02305-6a25-492b-983f-bd72a0839e31",
   "metadata": {},
   "outputs": [
    {
     "data": {
      "text/plain": [
       "25"
      ]
     },
     "execution_count": 5,
     "metadata": {},
     "output_type": "execute_result"
    }
   ],
   "source": [
    "square = lambda x: x * x\n",
    "square(5)"
   ]
  },
  {
   "cell_type": "markdown",
   "id": "9226f6b7-d554-4652-935d-ab0b6c412e5f",
   "metadata": {},
   "source": [
    "The main benefit of lambda functions is that they can be used as one-time-use functions. "
   ]
  }
 ],
 "metadata": {
  "kernelspec": {
   "display_name": "Python 3",
   "language": "python",
   "name": "python3"
  },
  "language_info": {
   "codemirror_mode": {
    "name": "ipython",
    "version": 3
   },
   "file_extension": ".py",
   "mimetype": "text/x-python",
   "name": "python",
   "nbconvert_exporter": "python",
   "pygments_lexer": "ipython3",
   "version": "3.8.8"
  }
 },
 "nbformat": 4,
 "nbformat_minor": 5
}
